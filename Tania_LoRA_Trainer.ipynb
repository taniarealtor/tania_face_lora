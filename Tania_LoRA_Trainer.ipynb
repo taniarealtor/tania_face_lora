{
 "cells": [
  {
   "cell_type": "code",
   "execution_count": null,
   "id": "1376c0d4",
   "metadata": {},
   "outputs": [],
   "source": [
    "from google.colab import drive\n",
    "drive.mount('/content/drive')\n"
   ]
  },
  {
   "cell_type": "code",
   "execution_count": null,
   "id": "445a1b8f",
   "metadata": {},
   "outputs": [],
   "source": [
    "!pip install accelerate==0.21.0 bitsandbytes==0.41.0 safetensors transformers==4.31.0 datasets==2.14.4 peft==0.4.0 trl==0.4.7 diffusers==0.20.2\n"
   ]
  },
  {
   "cell_type": "code",
   "execution_count": null,
   "id": "38b60596",
   "metadata": {},
   "outputs": [],
   "source": [
    "import os\n",
    "\n",
    "dataset_path = \"/content/drive/MyDrive/lora_tania/train_data\"\n",
    "output_dir = \"/content/drive/MyDrive/lora_tania/output\"\n",
    "os.makedirs(output_dir, exist_ok=True)\n",
    "print(\"Folder output siap:\", output_dir)\n"
   ]
  },
  {
   "cell_type": "code",
   "execution_count": null,
   "id": "5c6dac8c",
   "metadata": {},
   "outputs": [],
   "source": [
    "# Placeholder untuk script training\n",
    "# Gantilah bagian ini dengan script training LoRA sebenarnya seperti kohya-ss, diffusers, atau dreambooth-lora\n",
    "\n",
    "print(\"Training dimulai dari:\", dataset_path)\n",
    "print(\"Hasil model akan disimpan di:\", output_dir)\n",
    "\n",
    "# Simulasi hasil\n",
    "with open(os.path.join(output_dir, \"tania_face.safetensors\"), \"w\") as f:\n",
    "    f.write(\"Model berhasil dilatih (simulasi)\")\n"
   ]
  },
  {
   "cell_type": "markdown",
   "id": "0ef0010c",
   "metadata": {},
   "source": [
    "✅ Training selesai! Model `tania_face.safetensors` telah disimpan ke folder output."
   ]
  }
 ],
 "metadata": {
  "colab": {
   "name": "Tania_LoRA_Trainer.ipynb"
  }
 },
 "nbformat": 4,
 "nbformat_minor": 5
}